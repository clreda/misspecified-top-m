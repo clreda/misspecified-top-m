{
 "cells": [
  {
   "cell_type": "code",
   "execution_count": null,
   "id": "falling-completion",
   "metadata": {},
   "outputs": [],
   "source": [
    "import numpy as np\n",
    "from scipy.sparse.linalg import svds\n",
    "from sklearn.neural_network import MLPRegressor\n",
    "from sklearn.model_selection import train_test_split\n",
    "from scipy.linalg import lu\n",
    "from numpy.linalg import svd"
   ]
  },
  {
   "cell_type": "code",
   "execution_count": null,
   "id": "least-powell",
   "metadata": {
    "scrolled": false
   },
   "outputs": [],
   "source": [
    "# load representation\n",
    "\n",
    "n_arms = 103\n",
    "d = 8\n",
    "dev = 0.206\n",
    "\n",
    "file_name = \"lastfm_problem2_k{}_d{}_maxdev{}\".format(n_arms, d, dev)\n",
    "\n",
    "repr_path = \"../\" + file_name + \".npz\"\n",
    "f = np.load(repr_path)\n",
    "\n",
    "phi = f[\"features\"]\n",
    "theta = f[\"theta\"]\n",
    "gt = f[\"ground_truth\"]\n",
    "\n",
    "mu = phi.dot(theta)\n",
    "gap = np.max(mu) - mu\n",
    "\n",
    "print(phi.shape)\n",
    "print(np.max(np.abs(mu - gt)))"
   ]
  },
  {
   "cell_type": "code",
   "execution_count": null,
   "id": "joined-conspiracy",
   "metadata": {},
   "outputs": [],
   "source": [
    "def extract_repr(n_arms_small):\n",
    "    \n",
    "    min_gp = 0\n",
    "    while min_gp < 0.1:\n",
    "        arms = np.arange(n_arms)\n",
    "        np.random.shuffle(arms)\n",
    "        arm_ids = arms[:n_arms_small]\n",
    "\n",
    "        new_phi = phi[arm_ids]\n",
    "        new_mu = new_phi.dot(theta)\n",
    "        new_gt = gt[arm_ids]\n",
    "        new_gap = np.max(new_mu) - new_mu\n",
    "        new_gap2 = np.max(new_mu) - new_mu\n",
    "        new_gap2[new_gap2 == 0] = 1000\n",
    "        min_gp = np.min(new_gap2)\n",
    "    \n",
    "    print(\"[gaps] min {} max {} mean {} median {}\".format(np.min(new_gap2), np.max(new_gap), np.mean(new_gap), np.median(new_gap)))\n",
    "    print(\"[deviation] {}\".format(np.max(new_mu - new_gt)))\n",
    "    \n",
    "    fmat = new_phi\n",
    "    d = fmat.shape[1]\n",
    "    U, s, Vt = svd(fmat, full_matrices=False)\n",
    "    sp = np.sum(s > 1e-2)\n",
    "    print(\"[Dim reduction] d={0}, span={1}\".format(d,sp))\n",
    "\n",
    "    s = s[:sp]\n",
    "    U = U[:, :sp]\n",
    "    Vt = Vt[:sp, :]\n",
    "    s = np.diag(s)\n",
    "    U = np.dot(U, s)\n",
    "    M = U.dot(Vt)\n",
    "    rmse = np.sqrt(np.mean(np.abs(M - fmat) ** 2))\n",
    "    print(\"[Dim reduction] Reconstruction rmse: {}\".format(rmse))\n",
    "    red_phi = U\n",
    "    red_theta = Vt.dot(theta)\n",
    "    red_mu = red_phi.dot(red_theta)\n",
    "    mu_rmse = np.sqrt(np.mean(np.abs(red_mu - new_mu) ** 2))\n",
    "    print(\"[Dim reduction] mu rmse: {}\".format(mu_rmse))\n",
    "    print()\n",
    "    \n",
    "    np.savez_compressed('lastfm_problem2_small_k{0}_d{1}_maxdev{2}.npz'.format(n_arms_small, sp, dev), features=red_phi, theta=red_theta, ground_truth=new_gt)\n",
    "\n",
    "for n in [20,30,40,50]:\n",
    "    extract_repr(n)"
   ]
  },
  {
   "cell_type": "markdown",
   "id": "emotional-armor",
   "metadata": {},
   "source": []
  },
  {
   "cell_type": "code",
   "execution_count": null,
   "id": "olive-wilderness",
   "metadata": {},
   "outputs": [],
   "source": []
  }
 ],
 "metadata": {
  "kernelspec": {
   "display_name": "Python 3",
   "language": "python",
   "name": "python3"
  },
  "language_info": {
   "codemirror_mode": {
    "name": "ipython",
    "version": 3
   },
   "file_extension": ".py",
   "mimetype": "text/x-python",
   "name": "python",
   "nbconvert_exporter": "python",
   "pygments_lexer": "ipython3",
   "version": "3.9.1+"
  }
 },
 "nbformat": 4,
 "nbformat_minor": 5
}
