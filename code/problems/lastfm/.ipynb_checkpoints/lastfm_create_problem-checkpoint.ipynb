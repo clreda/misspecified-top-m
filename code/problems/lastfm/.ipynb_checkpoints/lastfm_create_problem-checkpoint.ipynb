{
 "cells": [
  {
   "cell_type": "code",
   "execution_count": null,
   "metadata": {},
   "outputs": [],
   "source": [
    "import numpy as np\n",
    "from scipy.sparse.linalg import svds\n",
    "from sklearn.neural_network import MLPRegressor\n",
    "from sklearn.model_selection import train_test_split\n",
    "from scipy.linalg import lu\n",
    "from numpy.linalg import svd"
   ]
  },
  {
   "cell_type": "code",
   "execution_count": null,
   "metadata": {},
   "outputs": [],
   "source": [
    "# load data\n",
    "\n",
    "data_path = \"lastfmlog.npy\"\n",
    "\n",
    "ratings = np.load(data_path)\n",
    "\n",
    "print(\"Loaded dataset: {}\".format(ratings.shape))\n",
    "\n",
    "n_users, n_items = ratings.shape\n",
    "print(\"ratings: max {0} - min {1}\".format(ratings.max(), ratings.min()))"
   ]
  },
  {
   "cell_type": "code",
   "execution_count": null,
   "metadata": {},
   "outputs": [],
   "source": [
    "# load representation\n",
    "\n",
    "repr_path = \"representations/lastfm_k103_d15_maxdev0.62.npz\"\n",
    "f = np.load(repr_path)\n",
    "\n",
    "phi = f[\"features\"]\n",
    "theta = f[\"theta\"]\n",
    "mu = phi.dot(theta)\n",
    "gap = np.max(mu, axis=1)[:, np.newaxis] - mu\n",
    "gap_tmp = np.max(mu, axis=1)[:, np.newaxis] - mu\n",
    "gap_tmp[gap_tmp == 0] = 100\n",
    "min_gaps = np.min(gap_tmp, axis=1)\n",
    "\n",
    "dev = np.abs(ratings - mu)\n",
    "max_dev = np.max(dev, axis=1)"
   ]
  },
  {
   "cell_type": "code",
   "execution_count": null,
   "metadata": {},
   "outputs": [],
   "source": [
    "activity_thresh = 35\n",
    "user_activity = np.sum(ratings > 0, axis=1)\n",
    "\n",
    "# keep only users that listened to at least activity_thresh artists\n",
    "most_active_users = np.argwhere(user_activity > activity_thresh).ravel()\n",
    "\n",
    "# generate problems\n",
    "\n",
    "for n,i in enumerate(most_active_users):\n",
    "    print(\"[User {0}] max_dev: {1} min_gap: {2}\".format(i,max_dev[i],min_gaps[i]))\n",
    "    ground_truth = ratings[i, :]\n",
    "    \n",
    "    fmat = phi[i, :, :]\n",
    "    d = fmat.shape[1]\n",
    "    n_items = fmat.shape[0]\n",
    "    \n",
    "    # remove redundant dimensions\n",
    "    U, s, Vt = svd(fmat, full_matrices=False)\n",
    "    sp = np.sum(s > 1e-8)\n",
    "    print(\"[Dim reduction] d={0}, span={1}\".format(d,sp))\n",
    "    s = s[:sp]\n",
    "    U = U[:, :sp]\n",
    "    Vt = Vt[:sp, :]\n",
    "    s = np.diag(s)\n",
    "    U = np.dot(U, s)\n",
    "    M = U.dot(Vt)\n",
    "    rmse = np.sqrt(np.mean(np.abs(M - fmat) ** 2))\n",
    "    print(\"[Dim reduction] Reconstruction rmse: {}\".format(rmse))\n",
    "    new_phi = U\n",
    "    new_theta = Vt.dot(theta)\n",
    "    new_mu = new_phi.dot(new_theta)\n",
    "    mu_rmse = np.sqrt(np.mean(np.abs(mu[i, :] - new_mu) ** 2))\n",
    "    print(\"[Dim reduction] mu rmse: {}\".format(mu_rmse))\n",
    "    print()\n",
    "    \n",
    "    np.savez_compressed('lastfm_problem{0}_k{1}_d{2}_maxdev{3}.npz'.format(n, n_items, sp, round(max_dev[i],3)), \n",
    "                        features=new_phi, theta=new_theta, ground_truth=ground_truth)\n"
   ]
  }
 ],
 "metadata": {
  "kernelspec": {
   "display_name": "Python 3",
   "language": "python",
   "name": "python3"
  },
  "language_info": {
   "codemirror_mode": {
    "name": "ipython",
    "version": 3
   },
   "file_extension": ".py",
   "mimetype": "text/x-python",
   "name": "python",
   "nbconvert_exporter": "python",
   "pygments_lexer": "ipython3",
   "version": "3.9.1+"
  }
 },
 "nbformat": 4,
 "nbformat_minor": 2
}
