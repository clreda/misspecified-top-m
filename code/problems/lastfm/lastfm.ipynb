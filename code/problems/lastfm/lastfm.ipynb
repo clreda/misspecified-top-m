{
 "cells": [
  {
   "cell_type": "code",
   "execution_count": null,
   "id": "surprising-tunnel",
   "metadata": {},
   "outputs": [],
   "source": [
    "import pandas as pd\n",
    "import numpy as np\n",
    "import matplotlib.pyplot as plt\n",
    "import seaborn as sb"
   ]
  },
  {
   "cell_type": "code",
   "execution_count": null,
   "id": "pretty-account",
   "metadata": {},
   "outputs": [],
   "source": [
    "artist_threshold = 120\n",
    "user_threshold = 10"
   ]
  },
  {
   "cell_type": "code",
   "execution_count": null,
   "id": "functioning-separate",
   "metadata": {},
   "outputs": [],
   "source": [
    "df = pd.read_csv(\"user_artists.dat\", sep=\"\\s+\")"
   ]
  },
  {
   "cell_type": "code",
   "execution_count": null,
   "id": "removed-schema",
   "metadata": {},
   "outputs": [],
   "source": [
    "df"
   ]
  },
  {
   "cell_type": "code",
   "execution_count": null,
   "id": "retired-forward",
   "metadata": {},
   "outputs": [],
   "source": [
    "tmp = df.groupby(by=['artistID']).userID.nunique()\n",
    "artists = tmp[tmp > artist_threshold].index\n",
    "artists"
   ]
  },
  {
   "cell_type": "code",
   "execution_count": null,
   "id": "steady-demand",
   "metadata": {},
   "outputs": [],
   "source": [
    "filtered = df[df.artistID.isin(artists)]\n",
    "tmp = filtered.groupby(by=['userID']).artistID.nunique()\n",
    "users = tmp[tmp > user_threshold].index\n",
    "users"
   ]
  },
  {
   "cell_type": "code",
   "execution_count": null,
   "id": "warming-ultimate",
   "metadata": {},
   "outputs": [],
   "source": [
    "final = filtered[filtered.userID.isin(users)]\n",
    "final"
   ]
  },
  {
   "cell_type": "code",
   "execution_count": null,
   "id": "domestic-vertical",
   "metadata": {},
   "outputs": [],
   "source": [
    "tmp = final.pivot_table(index=\"userID\", columns=\"artistID\", values=\"weight\", fill_value=0)\n",
    "matrix = tmp.to_numpy()\n",
    "matrix.shape"
   ]
  },
  {
   "cell_type": "code",
   "execution_count": null,
   "id": "natural-ethernet",
   "metadata": {},
   "outputs": [],
   "source": [
    "sb.distplot(matrix.ravel(), bins=100, kde=False)"
   ]
  },
  {
   "cell_type": "code",
   "execution_count": null,
   "id": "constant-charlotte",
   "metadata": {},
   "outputs": [],
   "source": [
    "len(np.where(matrix.ravel()>0)[0])"
   ]
  },
  {
   "cell_type": "code",
   "execution_count": null,
   "id": "ceramic-collective",
   "metadata": {},
   "outputs": [],
   "source": [
    "nonzero = matrix.ravel()[np.where(matrix.ravel()>0)]\n",
    "sb.distplot(nonzero, bins=100, kde=False)"
   ]
  },
  {
   "cell_type": "code",
   "execution_count": null,
   "id": "realistic-flower",
   "metadata": {},
   "outputs": [],
   "source": [
    "sb.distplot(np.log(1+nonzero), bins=100, kde=False)"
   ]
  },
  {
   "cell_type": "code",
   "execution_count": null,
   "id": "invalid-agent",
   "metadata": {},
   "outputs": [],
   "source": [
    "norm_matrix = matrix / np.max(matrix)\n",
    "log_matrix = np.log(1+matrix)\n",
    "norm_log_matrix = log_matrix / np.max(log_matrix)\n",
    "np.save('lastfm', norm_matrix)\n",
    "np.save('lastfmlog', norm_log_matrix)"
   ]
  }
 ],
 "metadata": {
  "kernelspec": {
   "display_name": "Python 3",
   "language": "python",
   "name": "python3"
  },
  "language_info": {
   "codemirror_mode": {
    "name": "ipython",
    "version": 3
   },
   "file_extension": ".py",
   "mimetype": "text/x-python",
   "name": "python",
   "nbconvert_exporter": "python",
   "pygments_lexer": "ipython3",
   "version": "3.9.1+"
  }
 },
 "nbformat": 4,
 "nbformat_minor": 5
}
